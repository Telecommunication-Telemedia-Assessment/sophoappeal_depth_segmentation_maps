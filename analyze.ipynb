{
 "cells": [
  {
   "cell_type": "code",
   "execution_count": 14,
   "metadata": {},
   "outputs": [],
   "source": [
    "# ipython\n",
    "%matplotlib inline\n",
    "\n",
    "from IPython.display import display as d\n",
    "import pandas as pd\n",
    "import numpy as np\n",
    "import seaborn as sns\n",
    "sns.set(rc={'figure.figsize':(12,12)})\n",
    "sns.set_style(\"white\")\n",
    "import glob\n",
    "import json\n",
    "import os\n",
    "import sys\n",
    "import shutil\n",
    "\n",
    "def save_fig(ax, title, pdfname):\n",
    "    ax.set_title(title)\n",
    "    ax.get_figure().savefig(pdfname, bbox_inches=\"tight\")\n",
    "\n"
   ]
  },
  {
   "cell_type": "code",
   "execution_count": 15,
   "metadata": {},
   "outputs": [
    {
     "data": {
      "text/html": [
       "<div>\n",
       "<style scoped>\n",
       "    .dataframe tbody tr th:only-of-type {\n",
       "        vertical-align: middle;\n",
       "    }\n",
       "\n",
       "    .dataframe tbody tr th {\n",
       "        vertical-align: top;\n",
       "    }\n",
       "\n",
       "    .dataframe thead th {\n",
       "        text-align: right;\n",
       "    }\n",
       "</style>\n",
       "<table border=\"1\" class=\"dataframe\">\n",
       "  <thead>\n",
       "    <tr style=\"text-align: right;\">\n",
       "      <th></th>\n",
       "      <th>image</th>\n",
       "      <th>mean_depth</th>\n",
       "      <th>std_depth</th>\n",
       "    </tr>\n",
       "  </thead>\n",
       "  <tbody>\n",
       "    <tr>\n",
       "      <th>0</th>\n",
       "      <td>depth_segmentation_maps/DPT/depths/500px_cc0/1...</td>\n",
       "      <td>36763.688611</td>\n",
       "      <td>18154.203253</td>\n",
       "    </tr>\n",
       "    <tr>\n",
       "      <th>1</th>\n",
       "      <td>depth_segmentation_maps/DPT/depths/500px_cc0/1...</td>\n",
       "      <td>25372.601405</td>\n",
       "      <td>17086.128711</td>\n",
       "    </tr>\n",
       "    <tr>\n",
       "      <th>2</th>\n",
       "      <td>depth_segmentation_maps/DPT/depths/500px_cc0/1...</td>\n",
       "      <td>32116.281660</td>\n",
       "      <td>19412.510583</td>\n",
       "    </tr>\n",
       "    <tr>\n",
       "      <th>3</th>\n",
       "      <td>depth_segmentation_maps/DPT/depths/500px_cc0/1...</td>\n",
       "      <td>34076.573541</td>\n",
       "      <td>17195.084243</td>\n",
       "    </tr>\n",
       "    <tr>\n",
       "      <th>4</th>\n",
       "      <td>depth_segmentation_maps/DPT/depths/500px_cc0/1...</td>\n",
       "      <td>30410.322614</td>\n",
       "      <td>16990.384103</td>\n",
       "    </tr>\n",
       "    <tr>\n",
       "      <th>...</th>\n",
       "      <td>...</td>\n",
       "      <td>...</td>\n",
       "      <td>...</td>\n",
       "    </tr>\n",
       "    <tr>\n",
       "      <th>1056</th>\n",
       "      <td>depth_segmentation_maps/DPT/depths/pixabay_fir...</td>\n",
       "      <td>26944.590945</td>\n",
       "      <td>20054.103321</td>\n",
       "    </tr>\n",
       "    <tr>\n",
       "      <th>1057</th>\n",
       "      <td>depth_segmentation_maps/DPT/depths/pixabay_fir...</td>\n",
       "      <td>31090.973067</td>\n",
       "      <td>16984.042538</td>\n",
       "    </tr>\n",
       "    <tr>\n",
       "      <th>1058</th>\n",
       "      <td>depth_segmentation_maps/DPT/depths/pixabay_fir...</td>\n",
       "      <td>28155.522096</td>\n",
       "      <td>18732.643078</td>\n",
       "    </tr>\n",
       "    <tr>\n",
       "      <th>1059</th>\n",
       "      <td>depth_segmentation_maps/DPT/depths/pixabay_fir...</td>\n",
       "      <td>23825.702718</td>\n",
       "      <td>21133.509133</td>\n",
       "    </tr>\n",
       "    <tr>\n",
       "      <th>1060</th>\n",
       "      <td>depth_segmentation_maps/DPT/depths/pixabay_fir...</td>\n",
       "      <td>25930.621691</td>\n",
       "      <td>17696.255362</td>\n",
       "    </tr>\n",
       "  </tbody>\n",
       "</table>\n",
       "<p>1061 rows × 3 columns</p>\n",
       "</div>"
      ],
      "text/plain": [
       "                                                  image    mean_depth  \\\n",
       "0     depth_segmentation_maps/DPT/depths/500px_cc0/1...  36763.688611   \n",
       "1     depth_segmentation_maps/DPT/depths/500px_cc0/1...  25372.601405   \n",
       "2     depth_segmentation_maps/DPT/depths/500px_cc0/1...  32116.281660   \n",
       "3     depth_segmentation_maps/DPT/depths/500px_cc0/1...  34076.573541   \n",
       "4     depth_segmentation_maps/DPT/depths/500px_cc0/1...  30410.322614   \n",
       "...                                                 ...           ...   \n",
       "1056  depth_segmentation_maps/DPT/depths/pixabay_fir...  26944.590945   \n",
       "1057  depth_segmentation_maps/DPT/depths/pixabay_fir...  31090.973067   \n",
       "1058  depth_segmentation_maps/DPT/depths/pixabay_fir...  28155.522096   \n",
       "1059  depth_segmentation_maps/DPT/depths/pixabay_fir...  23825.702718   \n",
       "1060  depth_segmentation_maps/DPT/depths/pixabay_fir...  25930.621691   \n",
       "\n",
       "         std_depth  \n",
       "0     18154.203253  \n",
       "1     17086.128711  \n",
       "2     19412.510583  \n",
       "3     17195.084243  \n",
       "4     16990.384103  \n",
       "...            ...  \n",
       "1056  20054.103321  \n",
       "1057  16984.042538  \n",
       "1058  18732.643078  \n",
       "1059  21133.509133  \n",
       "1060  17696.255362  \n",
       "\n",
       "[1061 rows x 3 columns]"
      ]
     },
     "metadata": {},
     "output_type": "display_data"
    },
    {
     "data": {
      "image/png": "[encoded data removed]",
      "text/plain": [
       "<Figure size 432x144 with 1 Axes>"
      ]
     },
     "metadata": {},
     "output_type": "display_data"
    }
   ],
   "source": [
    "ddepth = pd.read_json(\"depths.json\")\n",
    "d(ddepth)\n",
    "\n",
    "sns.set(rc={'figure.figsize':(6,2)})\n",
    "sns.set_style(\"white\")\n",
    "ax = sns.boxplot(x=\"mean_depth\", data=ddepth, color=\"red\")\n",
    "\n",
    "save_fig(ax, \"mean_depth\", \"mean_depth.pdf\")"
   ]
  },
  {
   "cell_type": "code",
   "execution_count": 16,
   "metadata": {},
   "outputs": [
    {
     "data": {
      "image/png": "[encoded data removed]",
      "text/plain": [
       "<Figure size 432x144 with 1 Axes>"
      ]
     },
     "metadata": {},
     "output_type": "display_data"
    }
   ],
   "source": [
    "ax = sns.boxplot(x=\"std_depth\", data=ddepth, color=\"blue\")\n",
    "save_fig(ax, \"std_depth\", \"std_depth.pdf\")"
   ]
  },
  {
   "cell_type": "code",
   "execution_count": 17,
   "metadata": {},
   "outputs": [
    {
     "data": {
      "text/html": [
       "<div>\n",
       "<style scoped>\n",
       "    .dataframe tbody tr th:only-of-type {\n",
       "        vertical-align: middle;\n",
       "    }\n",
       "\n",
       "    .dataframe tbody tr th {\n",
       "        vertical-align: top;\n",
       "    }\n",
       "\n",
       "    .dataframe thead th {\n",
       "        text-align: right;\n",
       "    }\n",
       "</style>\n",
       "<table border=\"1\" class=\"dataframe\">\n",
       "  <thead>\n",
       "    <tr style=\"text-align: right;\">\n",
       "      <th></th>\n",
       "      <th>image</th>\n",
       "      <th>mean_segmentation</th>\n",
       "      <th>number_segmentation</th>\n",
       "      <th>std_segmentation</th>\n",
       "    </tr>\n",
       "  </thead>\n",
       "  <tbody>\n",
       "    <tr>\n",
       "      <th>0</th>\n",
       "      <td>depth_segmentation_maps/DPT/segmentation/500px...</td>\n",
       "      <td>2.061414</td>\n",
       "      <td>12</td>\n",
       "      <td>2.220757</td>\n",
       "    </tr>\n",
       "    <tr>\n",
       "      <th>1</th>\n",
       "      <td>depth_segmentation_maps/DPT/segmentation/500px...</td>\n",
       "      <td>3.278665</td>\n",
       "      <td>23</td>\n",
       "      <td>4.854167</td>\n",
       "    </tr>\n",
       "    <tr>\n",
       "      <th>2</th>\n",
       "      <td>depth_segmentation_maps/DPT/segmentation/500px...</td>\n",
       "      <td>0.221726</td>\n",
       "      <td>10</td>\n",
       "      <td>0.978827</td>\n",
       "    </tr>\n",
       "    <tr>\n",
       "      <th>3</th>\n",
       "      <td>depth_segmentation_maps/DPT/segmentation/500px...</td>\n",
       "      <td>1.873934</td>\n",
       "      <td>14</td>\n",
       "      <td>2.239667</td>\n",
       "    </tr>\n",
       "    <tr>\n",
       "      <th>4</th>\n",
       "      <td>depth_segmentation_maps/DPT/segmentation/500px...</td>\n",
       "      <td>3.643450</td>\n",
       "      <td>20</td>\n",
       "      <td>4.333476</td>\n",
       "    </tr>\n",
       "    <tr>\n",
       "      <th>...</th>\n",
       "      <td>...</td>\n",
       "      <td>...</td>\n",
       "      <td>...</td>\n",
       "      <td>...</td>\n",
       "    </tr>\n",
       "    <tr>\n",
       "      <th>1057</th>\n",
       "      <td>depth_segmentation_maps/DPT/segmentation/pixab...</td>\n",
       "      <td>1.044185</td>\n",
       "      <td>11</td>\n",
       "      <td>1.968715</td>\n",
       "    </tr>\n",
       "    <tr>\n",
       "      <th>1058</th>\n",
       "      <td>depth_segmentation_maps/DPT/segmentation/pixab...</td>\n",
       "      <td>0.779975</td>\n",
       "      <td>7</td>\n",
       "      <td>0.719633</td>\n",
       "    </tr>\n",
       "    <tr>\n",
       "      <th>1059</th>\n",
       "      <td>depth_segmentation_maps/DPT/segmentation/pixab...</td>\n",
       "      <td>1.848201</td>\n",
       "      <td>6</td>\n",
       "      <td>1.692414</td>\n",
       "    </tr>\n",
       "    <tr>\n",
       "      <th>1060</th>\n",
       "      <td>depth_segmentation_maps/DPT/segmentation/pixab...</td>\n",
       "      <td>1.323142</td>\n",
       "      <td>8</td>\n",
       "      <td>1.795496</td>\n",
       "    </tr>\n",
       "    <tr>\n",
       "      <th>1061</th>\n",
       "      <td>depth_segmentation_maps/DPT/segmentation/pixab...</td>\n",
       "      <td>5.640709</td>\n",
       "      <td>16</td>\n",
       "      <td>3.560629</td>\n",
       "    </tr>\n",
       "  </tbody>\n",
       "</table>\n",
       "<p>1062 rows × 4 columns</p>\n",
       "</div>"
      ],
      "text/plain": [
       "                                                  image  mean_segmentation  \\\n",
       "0     depth_segmentation_maps/DPT/segmentation/500px...           2.061414   \n",
       "1     depth_segmentation_maps/DPT/segmentation/500px...           3.278665   \n",
       "2     depth_segmentation_maps/DPT/segmentation/500px...           0.221726   \n",
       "3     depth_segmentation_maps/DPT/segmentation/500px...           1.873934   \n",
       "4     depth_segmentation_maps/DPT/segmentation/500px...           3.643450   \n",
       "...                                                 ...                ...   \n",
       "1057  depth_segmentation_maps/DPT/segmentation/pixab...           1.044185   \n",
       "1058  depth_segmentation_maps/DPT/segmentation/pixab...           0.779975   \n",
       "1059  depth_segmentation_maps/DPT/segmentation/pixab...           1.848201   \n",
       "1060  depth_segmentation_maps/DPT/segmentation/pixab...           1.323142   \n",
       "1061  depth_segmentation_maps/DPT/segmentation/pixab...           5.640709   \n",
       "\n",
       "      number_segmentation  std_segmentation  \n",
       "0                      12          2.220757  \n",
       "1                      23          4.854167  \n",
       "2                      10          0.978827  \n",
       "3                      14          2.239667  \n",
       "4                      20          4.333476  \n",
       "...                   ...               ...  \n",
       "1057                   11          1.968715  \n",
       "1058                    7          0.719633  \n",
       "1059                    6          1.692414  \n",
       "1060                    8          1.795496  \n",
       "1061                   16          3.560629  \n",
       "\n",
       "[1062 rows x 4 columns]"
      ]
     },
     "metadata": {},
     "output_type": "display_data"
    }
   ],
   "source": [
    "dseg = pd.read_json(\"segmentations.json\")\n",
    "d(dseg)"
   ]
  },
  {
   "cell_type": "code",
   "execution_count": 18,
   "metadata": {},
   "outputs": [
    {
     "data": {
      "image/png": "[encoded data removed]",
      "text/plain": [
       "<Figure size 432x144 with 1 Axes>"
      ]
     },
     "metadata": {},
     "output_type": "display_data"
    }
   ],
   "source": [
    "ax = sns.boxplot(x=\"number_segmentation\", data=dseg, color=\"orange\")\n",
    "save_fig(ax, \"number_segmentation\", \"number_segmentation.pdf\")"
   ]
  },
  {
   "cell_type": "code",
   "execution_count": 19,
   "metadata": {},
   "outputs": [
    {
     "data": {
      "image/png": "[encoded data removed]",
      "text/plain": [
       "<Figure size 432x144 with 1 Axes>"
      ]
     },
     "metadata": {},
     "output_type": "display_data"
    }
   ],
   "source": [
    "ax = sns.boxplot(x=\"mean_segmentation\", data=dseg, color=\"red\")\n",
    "save_fig(ax, \"mean_segmentation\", \"mean_segmentation.pdf\")"
   ]
  },
  {
   "cell_type": "code",
   "execution_count": 20,
   "metadata": {},
   "outputs": [
    {
     "data": {
      "image/png": "[encoded data removed]",
      "text/plain": [
       "<Figure size 432x144 with 1 Axes>"
      ]
     },
     "metadata": {},
     "output_type": "display_data"
    }
   ],
   "source": [
    "ax = sns.boxplot(x=\"std_segmentation\", data=dseg, color=\"blue\")\n",
    "save_fig(ax, \"std_segmentation\", \"std_segmentation.pdf\")"
   ]
  }
 ],
 "metadata": {
  "kernelspec": {
   "display_name": "Python 3 (ipykernel)",
   "language": "python",
   "name": "python3"
  },
  "language_info": {
   "codemirror_mode": {
    "name": "ipython",
    "version": 3
   },
   "file_extension": ".py",
   "mimetype": "text/x-python",
   "name": "python",
   "nbconvert_exporter": "python",
   "pygments_lexer": "ipython3",
   "version": "3.8.10"
  }
 },
 "nbformat": 4,
 "nbformat_minor": 4
}
